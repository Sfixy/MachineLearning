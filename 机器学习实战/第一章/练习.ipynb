{
 "cells": [
  {
   "cell_type": "markdown",
   "metadata": {},
   "source": [
    "#### 1、如何定义机器学习\n",
    "通过编程让计算机从数据中学习"
   ]
  },
  {
   "cell_type": "markdown",
   "metadata": {},
   "source": [
    "#### 2、机器学习在那些问题上表现突出，举出四例\n",
    "自动分类新闻、检测信用卡欺诈、论坛中自动标记恶评、自动对长文章做总结"
   ]
  },
  {
   "cell_type": "markdown",
   "metadata": {},
   "source": [
    "#### 3、什么是被标记的训练数据集\n",
    "监督学习中，提供给算法包含解决方案的的训练集称为标签"
   ]
  },
  {
   "cell_type": "markdown",
   "metadata": {},
   "source": [
    "#### 4、最常见的两种监督学习任务\n",
    "分类问题、回归问题"
   ]
  },
  {
   "cell_type": "markdown",
   "metadata": {},
   "source": [
    "#### 5、举例四种无监督学习任务\n",
    "聚类、可视化、降维、关联规则学习"
   ]
  },
  {
   "cell_type": "markdown",
   "metadata": {},
   "source": [
    "#### 6、机器人在未知地形行走，使用什么模型\n",
    "强化学习"
   ]
  },
  {
   "cell_type": "markdown",
   "metadata": {},
   "source": [
    "#### 7、顾客分成多组，使用什么算法\n",
    "聚类"
   ]
  },
  {
   "cell_type": "markdown",
   "metadata": {},
   "source": [
    "#### 8、垃圾邮件检测归为监督还是无监督\n",
    "监督"
   ]
  },
  {
   "cell_type": "markdown",
   "metadata": {},
   "source": [
    "#### 9、什么是在线学习\n",
    "循序渐进给系统提供寻训练数据，逐步积累学习成果"
   ]
  },
  {
   "cell_type": "markdown",
   "metadata": {},
   "source": [
    "#### 10、什么是核外学习\n",
    "核外算法可以处理计算机主内存无法处理的大量数据，他将数据分割成小批量，然后使用在线学习技术从这些小批量中学习"
   ]
  },
  {
   "cell_type": "markdown",
   "metadata": {},
   "source": [
    "#### 11、什么类型的学习算法依赖相似度做出预测\n",
    "基于实例的学习"
   ]
  },
  {
   "cell_type": "markdown",
   "metadata": {},
   "source": [
    "#### 12、模型参数与学习算法的超参数之间的区别\n",
    "模型有一个或多个参数，这些参数决定了模型对给的新实例会做出怎样的预测"
   ]
  },
  {
   "cell_type": "markdown",
   "metadata": {},
   "source": [
    "#### 13、基于模型的学习算法搜索的是什么？他们最常用的策略是什么？他们如何做出预测？\n",
    "使模型泛化最佳的模型参数值。成本函数最小化训练这样的系统，成本函数衡量的是系统对训练数据预测有多坏，如果模型有正则化，则再加上一个对模型复杂度的惩罚。学习算法最后找到的参数值就是最终得到的预测函数，只需要将实例特征提供给这个预测函数即可以预测"
   ]
  },
  {
   "cell_type": "markdown",
   "metadata": {},
   "source": [
    "#### 14、机器学习四个主要挑战\n",
    "数据缺乏、数据质量差、数据不具有代表性、特征不具信息量、模型过于简单对训练数据拟合不足、模型过于复杂对训练数据过度拟合"
   ]
  },
  {
   "cell_type": "markdown",
   "metadata": {},
   "source": [
    "#### 15、模型在训练集上表现很好，新的实例上泛化结果很糟糕，怎么回事 ？提供三种解决方案？\n",
    "过度拟合训练数据。\\n\n",
    "解决方法：\n",
    "    获取更多的数据、简化模型（选择更简单的算法、减少使用的参数和特征、对模型正则化）"
   ]
  },
  {
   "cell_type": "code",
   "execution_count": null,
   "metadata": {},
   "outputs": [],
   "source": []
  }
 ],
 "metadata": {
  "kernelspec": {
   "display_name": "Python 3",
   "language": "python",
   "name": "python3"
  },
  "language_info": {
   "codemirror_mode": {
    "name": "ipython",
    "version": 3
   },
   "file_extension": ".py",
   "mimetype": "text/x-python",
   "name": "python",
   "nbconvert_exporter": "python",
   "pygments_lexer": "ipython3",
   "version": "3.8.3"
  }
 },
 "nbformat": 4,
 "nbformat_minor": 4
}
