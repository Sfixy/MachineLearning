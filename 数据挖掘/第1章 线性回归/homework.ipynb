{
 "cells": [
  {
   "cell_type": "code",
   "execution_count": 1,
   "metadata": {},
   "outputs": [],
   "source": [
    "import numpy as np\n",
    "from bs4 import BeautifulSoup\n",
    "import pandas as pd\n",
    "import random\n",
    "import matplotlib.pyplot as plt\n",
    "import matplotlib as mpl\n",
    "plt.rcParams['font.sans-serif']=['simhei'] #显示中文\n",
    "plt.rcParams['axes.unicode_minus']=False   #用来正常显示负号\n",
    "%matplotlib inline"
   ]
  },
  {
   "cell_type": "code",
   "execution_count": 2,
   "metadata": {},
   "outputs": [],
   "source": [
    "infile = 'lego\\lego8288.html'\n",
    "HTML_DOC = open(infile,encoding = 'utf-8').read()"
   ]
  },
  {
   "cell_type": "code",
   "execution_count": 3,
   "metadata": {},
   "outputs": [
    {
     "data": {
      "text/plain": [
       "[<table class=\"li\" r=\"1\"><tr><td class=\"pic p140 lt\"><a class=\"img\" href=\"#\"><img alt=\"Item image\" class=\"img\" src=\"http://thumbs3.ebaystatic.com/m/mJFeBM5zAghBQuvICGgZcaQ/140.jpg\"/></a></td><td class=\"dtl\"><div class=\"ttl\"><a class=\"vip\" href=\"http://cgi.ebay.com/Lego-Technic-8288-Crawler-crane-/300514626390?pt=LH_DefaultDomain_0&amp;hash=item45f8114b56\">Lego Technic 8288 Crawler crane</a></div><div class=\"dyn dynS\"><div class=\"s1 empty\"><div class=\"mWSpc\"></div> </div></div><div class=\"anchors\"><div class=\"g-nav group\"><a href=\"http://shop.ebay.com/sis.html?_kw=Lego+Technic+8288+Crawler+crane&amp;ssPageName=SRCH%3ACMPL%3AVS&amp;_fis=2&amp;_id=300514626390&amp;_isid=0&amp;_sibeleafcat=156604\">View similar active items</a><span class=\"vbar g-nav\"> | </span><a href=\"http://cgi5.ebay.com/ws/eBayISAPI.dll?SellLikeItem&amp;item=300514626390&amp;ssPageName=STRK:MEWN:LILTX\">Sell one like this</a></div></div></td><td class=\"trs\"><img alt=\"Get fast shipping and excellent service when you buy from eBay Top-rated sellers\" height=\"30\" src=\"http://p.ebaystatic.com/aw/pics/icons/iconTrsXSmall.gif\" width=\"66\"/></td><td class=\"bids\"><div class=\"bin1\">12 Bids</div><span class=\"sold\">Sold</span></td><td class=\"prc bidsold g-b\">$85.00</td><td class=\"tme rt\"><b class=\"hidlb\">End Date:</b><span>Jan-19 17:00</span></td></tr></table>]"
      ]
     },
     "execution_count": 3,
     "metadata": {},
     "output_type": "execute_result"
    }
   ],
   "source": [
    "soup = BeautifulSoup(HTML_DOC,'lxml')\n",
    "i=1\n",
    "currentRow = soup.find_all('table', r = f'{i}')\n",
    "currentRow"
   ]
  },
  {
   "cell_type": "code",
   "execution_count": 4,
   "metadata": {},
   "outputs": [
    {
     "data": {
      "text/plain": [
       "'Lego Technic 8288 Crawler crane'"
      ]
     },
     "execution_count": 4,
     "metadata": {},
     "output_type": "execute_result"
    }
   ],
   "source": [
    "currentRow[0].find_all('a')[1].text"
   ]
  },
  {
   "cell_type": "code",
   "execution_count": 5,
   "metadata": {},
   "outputs": [],
   "source": [
    "title = currentRow[0].find_all('a')[1].text"
   ]
  },
  {
   "cell_type": "code",
   "execution_count": 6,
   "metadata": {},
   "outputs": [
    {
     "data": {
      "text/plain": [
       "'Lego Technic 8288 Crawler crane'"
      ]
     },
     "execution_count": 6,
     "metadata": {},
     "output_type": "execute_result"
    }
   ],
   "source": [
    "title"
   ]
  },
  {
   "cell_type": "code",
   "execution_count": 7,
   "metadata": {},
   "outputs": [],
   "source": [
    "lwrTitle = title.lower()"
   ]
  },
  {
   "cell_type": "code",
   "execution_count": 8,
   "metadata": {},
   "outputs": [
    {
     "data": {
      "text/plain": [
       "'lego technic 8288 crawler crane'"
      ]
     },
     "execution_count": 8,
     "metadata": {},
     "output_type": "execute_result"
    }
   ],
   "source": [
    "lwrTitle"
   ]
  },
  {
   "cell_type": "code",
   "execution_count": 9,
   "metadata": {},
   "outputs": [
    {
     "data": {
      "text/plain": [
       "0"
      ]
     },
     "execution_count": 9,
     "metadata": {},
     "output_type": "execute_result"
    }
   ],
   "source": [
    "lwrTitle.find('lego')"
   ]
  },
  {
   "cell_type": "code",
   "execution_count": 10,
   "metadata": {},
   "outputs": [
    {
     "data": {
      "text/plain": [
       "[<span class=\"sold\">Sold</span>]"
      ]
     },
     "execution_count": 10,
     "metadata": {},
     "output_type": "execute_result"
    }
   ],
   "source": [
    "currentRow[0].find_all('td')[3].find_all('span')"
   ]
  },
  {
   "cell_type": "code",
   "execution_count": 11,
   "metadata": {},
   "outputs": [
    {
     "data": {
      "text/plain": [
       "<td class=\"prc bidsold g-b\">$85.00</td>"
      ]
     },
     "execution_count": 11,
     "metadata": {},
     "output_type": "execute_result"
    }
   ],
   "source": [
    "currentRow[0].find_all('td')[4]"
   ]
  },
  {
   "cell_type": "code",
   "execution_count": 12,
   "metadata": {},
   "outputs": [],
   "source": [
    "soldPrice = currentRow[0].find_all('td')[4].text"
   ]
  },
  {
   "cell_type": "code",
   "execution_count": 13,
   "metadata": {},
   "outputs": [
    {
     "data": {
      "text/plain": [
       "'85.00'"
      ]
     },
     "execution_count": 13,
     "metadata": {},
     "output_type": "execute_result"
    }
   ],
   "source": [
    "soldPrice.replace('$','')"
   ]
  },
  {
   "cell_type": "code",
   "execution_count": 14,
   "metadata": {},
   "outputs": [],
   "source": [
    "def scrapePage(data, infile, yr, numPce, origPrc):\n",
    "    HTML_DOC = open(infile,encoding = 'utf-8').read()\n",
    "    soup = BeautifulSoup(HTML_DOC,'lxml')\n",
    "    i=1\n",
    "    #根据HTML页面结构进行解析\n",
    "    currentRow = soup.find_all('table', r = f'{i}')\n",
    "    while(len(currentRow) != 0):\n",
    "        currentRow = soup.find_all('table', r = f'{i}')\n",
    "        title = currentRow[0].find_all('a')[1].text\n",
    "        lwrTitle = title.lower()\n",
    "        #查找是否有全新标签\n",
    "        if (lwrTitle.find('new') > -1):\n",
    "            newFlag = 1\n",
    "        else:newFlag = 0\n",
    "        #查找是否已经标志出售，我们只收集已出售的数据\n",
    "        soldbutt = currentRow[0].find_all('td')[3].find_all('span')\n",
    "        if len(soldbutt) == 0:\n",
    "            print(f\"商品 #{i} 没有出售\")\n",
    "        else:\n",
    "            #解析页面获取当前价格\n",
    "            soldPrice = currentRow[0].find_all('td')[4]\n",
    "            priceStr = soldPrice.text\n",
    "            priceStr = priceStr.replace('$','')\n",
    "            priceStr = priceStr.replace(',','')\n",
    "            if len(soldPrice) > 1:\n",
    "                priceStr = priceStr.replace('Free shipping', '')\n",
    "            sellingPrice = float(priceStr)\n",
    "            #去掉不完整的套装价格\n",
    "            if  sellingPrice > origPrc * 0.5:\n",
    "                data.append([yr, numPce, newFlag, origPrc,sellingPrice])\n",
    "        i+=1\n",
    "        currentRow = soup.find_all('table', r = f'{i}')"
   ]
  },
  {
   "cell_type": "code",
   "execution_count": 15,
   "metadata": {},
   "outputs": [],
   "source": [
    "def setDataCollect(data):\n",
    "    scrapePage(data, 'lego/lego8288.html', 2006, 800, 49.99)    \n",
    "    scrapePage(data, 'lego/lego10030.html', 2002, 3096, 269.99) \n",
    "    scrapePage(data, 'lego/lego10179.html', 2007, 5195, 499.99) \n",
    "    scrapePage(data, 'lego/lego10181.html', 2007, 3428, 199.99) \n",
    "    scrapePage(data, 'lego/lego10189.html', 2008, 5922, 299.99) \n",
    "    scrapePage(data, 'lego/lego10196.html', 2009, 3263, 249.99) "
   ]
  },
  {
   "cell_type": "code",
   "execution_count": 16,
   "metadata": {},
   "outputs": [
    {
     "name": "stdout",
     "output_type": "stream",
     "text": [
      "商品 #4 没有出售\n",
      "商品 #11 没有出售\n",
      "商品 #4 没有出售\n",
      "商品 #16 没有出售\n",
      "商品 #18 没有出售\n",
      "商品 #21 没有出售\n",
      "商品 #22 没有出售\n",
      "商品 #2 没有出售\n",
      "商品 #6 没有出售\n",
      "商品 #7 没有出售\n",
      "商品 #9 没有出售\n",
      "商品 #16 没有出售\n",
      "商品 #5 没有出售\n",
      "商品 #6 没有出售\n",
      "商品 #10 没有出售\n",
      "商品 #12 没有出售\n"
     ]
    }
   ],
   "source": [
    "data=[]\n",
    "setDataCollect(data)"
   ]
  },
  {
   "cell_type": "code",
   "execution_count": 17,
   "metadata": {},
   "outputs": [],
   "source": [
    "df = pd.DataFrame(data)"
   ]
  },
  {
   "cell_type": "code",
   "execution_count": 18,
   "metadata": {},
   "outputs": [
    {
     "data": {
      "text/html": [
       "<div>\n",
       "<style scoped>\n",
       "    .dataframe tbody tr th:only-of-type {\n",
       "        vertical-align: middle;\n",
       "    }\n",
       "\n",
       "    .dataframe tbody tr th {\n",
       "        vertical-align: top;\n",
       "    }\n",
       "\n",
       "    .dataframe thead th {\n",
       "        text-align: right;\n",
       "    }\n",
       "</style>\n",
       "<table border=\"1\" class=\"dataframe\">\n",
       "  <thead>\n",
       "    <tr style=\"text-align: right;\">\n",
       "      <th></th>\n",
       "      <th>0</th>\n",
       "      <th>1</th>\n",
       "      <th>2</th>\n",
       "      <th>3</th>\n",
       "      <th>4</th>\n",
       "    </tr>\n",
       "  </thead>\n",
       "  <tbody>\n",
       "    <tr>\n",
       "      <th>0</th>\n",
       "      <td>2006</td>\n",
       "      <td>800</td>\n",
       "      <td>0</td>\n",
       "      <td>49.99</td>\n",
       "      <td>85.00</td>\n",
       "    </tr>\n",
       "    <tr>\n",
       "      <th>1</th>\n",
       "      <td>2006</td>\n",
       "      <td>800</td>\n",
       "      <td>0</td>\n",
       "      <td>49.99</td>\n",
       "      <td>102.50</td>\n",
       "    </tr>\n",
       "    <tr>\n",
       "      <th>2</th>\n",
       "      <td>2006</td>\n",
       "      <td>800</td>\n",
       "      <td>0</td>\n",
       "      <td>49.99</td>\n",
       "      <td>77.00</td>\n",
       "    </tr>\n",
       "    <tr>\n",
       "      <th>3</th>\n",
       "      <td>2006</td>\n",
       "      <td>800</td>\n",
       "      <td>0</td>\n",
       "      <td>49.99</td>\n",
       "      <td>162.50</td>\n",
       "    </tr>\n",
       "    <tr>\n",
       "      <th>4</th>\n",
       "      <td>2002</td>\n",
       "      <td>3096</td>\n",
       "      <td>0</td>\n",
       "      <td>269.99</td>\n",
       "      <td>699.99</td>\n",
       "    </tr>\n",
       "  </tbody>\n",
       "</table>\n",
       "</div>"
      ],
      "text/plain": [
       "      0     1  2       3       4\n",
       "0  2006   800  0   49.99   85.00\n",
       "1  2006   800  0   49.99  102.50\n",
       "2  2006   800  0   49.99   77.00\n",
       "3  2006   800  0   49.99  162.50\n",
       "4  2002  3096  0  269.99  699.99"
      ]
     },
     "execution_count": 18,
     "metadata": {},
     "output_type": "execute_result"
    }
   ],
   "source": [
    "df.head()"
   ]
  },
  {
   "cell_type": "code",
   "execution_count": 19,
   "metadata": {},
   "outputs": [
    {
     "data": {
      "text/html": [
       "<div>\n",
       "<style scoped>\n",
       "    .dataframe tbody tr th:only-of-type {\n",
       "        vertical-align: middle;\n",
       "    }\n",
       "\n",
       "    .dataframe tbody tr th {\n",
       "        vertical-align: top;\n",
       "    }\n",
       "\n",
       "    .dataframe thead th {\n",
       "        text-align: right;\n",
       "    }\n",
       "</style>\n",
       "<table border=\"1\" class=\"dataframe\">\n",
       "  <thead>\n",
       "    <tr style=\"text-align: right;\">\n",
       "      <th></th>\n",
       "      <th>出品年份</th>\n",
       "      <th>部件数目</th>\n",
       "      <th>全新否</th>\n",
       "      <th>原价</th>\n",
       "      <th>二手售价</th>\n",
       "    </tr>\n",
       "  </thead>\n",
       "  <tbody>\n",
       "    <tr>\n",
       "      <th>0</th>\n",
       "      <td>2006</td>\n",
       "      <td>800</td>\n",
       "      <td>0</td>\n",
       "      <td>49.99</td>\n",
       "      <td>85.00</td>\n",
       "    </tr>\n",
       "    <tr>\n",
       "      <th>1</th>\n",
       "      <td>2006</td>\n",
       "      <td>800</td>\n",
       "      <td>0</td>\n",
       "      <td>49.99</td>\n",
       "      <td>102.50</td>\n",
       "    </tr>\n",
       "    <tr>\n",
       "      <th>2</th>\n",
       "      <td>2006</td>\n",
       "      <td>800</td>\n",
       "      <td>0</td>\n",
       "      <td>49.99</td>\n",
       "      <td>77.00</td>\n",
       "    </tr>\n",
       "    <tr>\n",
       "      <th>3</th>\n",
       "      <td>2006</td>\n",
       "      <td>800</td>\n",
       "      <td>0</td>\n",
       "      <td>49.99</td>\n",
       "      <td>162.50</td>\n",
       "    </tr>\n",
       "    <tr>\n",
       "      <th>4</th>\n",
       "      <td>2002</td>\n",
       "      <td>3096</td>\n",
       "      <td>0</td>\n",
       "      <td>269.99</td>\n",
       "      <td>699.99</td>\n",
       "    </tr>\n",
       "  </tbody>\n",
       "</table>\n",
       "</div>"
      ],
      "text/plain": [
       "   出品年份  部件数目  全新否      原价    二手售价\n",
       "0  2006   800    0   49.99   85.00\n",
       "1  2006   800    0   49.99  102.50\n",
       "2  2006   800    0   49.99   77.00\n",
       "3  2006   800    0   49.99  162.50\n",
       "4  2002  3096    0  269.99  699.99"
      ]
     },
     "execution_count": 19,
     "metadata": {},
     "output_type": "execute_result"
    }
   ],
   "source": [
    "df.columns = ['出品年份','部件数目','全新否','原价','二手售价']\n",
    "df.head()"
   ]
  },
  {
   "cell_type": "code",
   "execution_count": 20,
   "metadata": {},
   "outputs": [
    {
     "name": "stdout",
     "output_type": "stream",
     "text": [
      "<class 'pandas.core.frame.DataFrame'>\n",
      "RangeIndex: 63 entries, 0 to 62\n",
      "Data columns (total 5 columns):\n",
      " #   Column  Non-Null Count  Dtype  \n",
      "---  ------  --------------  -----  \n",
      " 0   出品年份    63 non-null     int64  \n",
      " 1   部件数目    63 non-null     int64  \n",
      " 2   全新否     63 non-null     int64  \n",
      " 3   原价      63 non-null     float64\n",
      " 4   二手售价    63 non-null     float64\n",
      "dtypes: float64(2), int64(3)\n",
      "memory usage: 2.6 KB\n"
     ]
    }
   ],
   "source": [
    "df.info()"
   ]
  },
  {
   "cell_type": "code",
   "execution_count": 21,
   "metadata": {},
   "outputs": [
    {
     "data": {
      "text/html": [
       "<div>\n",
       "<style scoped>\n",
       "    .dataframe tbody tr th:only-of-type {\n",
       "        vertical-align: middle;\n",
       "    }\n",
       "\n",
       "    .dataframe tbody tr th {\n",
       "        vertical-align: top;\n",
       "    }\n",
       "\n",
       "    .dataframe thead th {\n",
       "        text-align: right;\n",
       "    }\n",
       "</style>\n",
       "<table border=\"1\" class=\"dataframe\">\n",
       "  <thead>\n",
       "    <tr style=\"text-align: right;\">\n",
       "      <th></th>\n",
       "      <th>出品年份</th>\n",
       "      <th>部件数目</th>\n",
       "      <th>全新否</th>\n",
       "      <th>原价</th>\n",
       "      <th>二手售价</th>\n",
       "    </tr>\n",
       "  </thead>\n",
       "  <tbody>\n",
       "    <tr>\n",
       "      <th>count</th>\n",
       "      <td>63.000000</td>\n",
       "      <td>63.000000</td>\n",
       "      <td>63.000000</td>\n",
       "      <td>63.000000</td>\n",
       "      <td>63.000000</td>\n",
       "    </tr>\n",
       "    <tr>\n",
       "      <th>mean</th>\n",
       "      <td>2006.603175</td>\n",
       "      <td>4237.380952</td>\n",
       "      <td>0.476190</td>\n",
       "      <td>330.942381</td>\n",
       "      <td>685.397619</td>\n",
       "    </tr>\n",
       "    <tr>\n",
       "      <th>std</th>\n",
       "      <td>2.166755</td>\n",
       "      <td>1418.838751</td>\n",
       "      <td>0.503444</td>\n",
       "      <td>137.438717</td>\n",
       "      <td>393.584085</td>\n",
       "    </tr>\n",
       "    <tr>\n",
       "      <th>min</th>\n",
       "      <td>2002.000000</td>\n",
       "      <td>800.000000</td>\n",
       "      <td>0.000000</td>\n",
       "      <td>49.990000</td>\n",
       "      <td>77.000000</td>\n",
       "    </tr>\n",
       "    <tr>\n",
       "      <th>25%</th>\n",
       "      <td>2007.000000</td>\n",
       "      <td>3263.000000</td>\n",
       "      <td>0.000000</td>\n",
       "      <td>249.990000</td>\n",
       "      <td>399.950000</td>\n",
       "    </tr>\n",
       "    <tr>\n",
       "      <th>50%</th>\n",
       "      <td>2007.000000</td>\n",
       "      <td>5195.000000</td>\n",
       "      <td>0.000000</td>\n",
       "      <td>299.990000</td>\n",
       "      <td>589.990000</td>\n",
       "    </tr>\n",
       "    <tr>\n",
       "      <th>75%</th>\n",
       "      <td>2008.000000</td>\n",
       "      <td>5195.000000</td>\n",
       "      <td>1.000000</td>\n",
       "      <td>499.990000</td>\n",
       "      <td>855.000000</td>\n",
       "    </tr>\n",
       "    <tr>\n",
       "      <th>max</th>\n",
       "      <td>2009.000000</td>\n",
       "      <td>5922.000000</td>\n",
       "      <td>1.000000</td>\n",
       "      <td>499.990000</td>\n",
       "      <td>2204.990000</td>\n",
       "    </tr>\n",
       "  </tbody>\n",
       "</table>\n",
       "</div>"
      ],
      "text/plain": [
       "              出品年份         部件数目        全新否          原价         二手售价\n",
       "count    63.000000    63.000000  63.000000   63.000000    63.000000\n",
       "mean   2006.603175  4237.380952   0.476190  330.942381   685.397619\n",
       "std       2.166755  1418.838751   0.503444  137.438717   393.584085\n",
       "min    2002.000000   800.000000   0.000000   49.990000    77.000000\n",
       "25%    2007.000000  3263.000000   0.000000  249.990000   399.950000\n",
       "50%    2007.000000  5195.000000   0.000000  299.990000   589.990000\n",
       "75%    2008.000000  5195.000000   1.000000  499.990000   855.000000\n",
       "max    2009.000000  5922.000000   1.000000  499.990000  2204.990000"
      ]
     },
     "execution_count": 21,
     "metadata": {},
     "output_type": "execute_result"
    }
   ],
   "source": [
    "df.describe()"
   ]
  },
  {
   "cell_type": "code",
   "execution_count": 22,
   "metadata": {},
   "outputs": [],
   "source": [
    "col_name = df.columns.tolist()"
   ]
  },
  {
   "cell_type": "code",
   "execution_count": 23,
   "metadata": {},
   "outputs": [
    {
     "data": {
      "text/plain": [
       "['出品年份', '部件数目', '全新否', '原价', '二手售价']"
      ]
     },
     "execution_count": 23,
     "metadata": {},
     "output_type": "execute_result"
    }
   ],
   "source": [
    "col_name"
   ]
  },
  {
   "cell_type": "code",
   "execution_count": 24,
   "metadata": {},
   "outputs": [
    {
     "data": {
      "text/plain": [
       "['X0', '出品年份', '部件数目', '全新否', '原价', '二手售价']"
      ]
     },
     "execution_count": 24,
     "metadata": {},
     "output_type": "execute_result"
    }
   ],
   "source": [
    "col_name.insert(0,'X0')\n",
    "col_name"
   ]
  },
  {
   "cell_type": "code",
   "execution_count": 25,
   "metadata": {},
   "outputs": [],
   "source": [
    "df = df.reindex(columns=col_name)"
   ]
  },
  {
   "cell_type": "code",
   "execution_count": 26,
   "metadata": {},
   "outputs": [],
   "source": [
    "df[\"X0\"]=1"
   ]
  },
  {
   "cell_type": "code",
   "execution_count": 27,
   "metadata": {},
   "outputs": [
    {
     "data": {
      "text/html": [
       "<div>\n",
       "<style scoped>\n",
       "    .dataframe tbody tr th:only-of-type {\n",
       "        vertical-align: middle;\n",
       "    }\n",
       "\n",
       "    .dataframe tbody tr th {\n",
       "        vertical-align: top;\n",
       "    }\n",
       "\n",
       "    .dataframe thead th {\n",
       "        text-align: right;\n",
       "    }\n",
       "</style>\n",
       "<table border=\"1\" class=\"dataframe\">\n",
       "  <thead>\n",
       "    <tr style=\"text-align: right;\">\n",
       "      <th></th>\n",
       "      <th>X0</th>\n",
       "      <th>出品年份</th>\n",
       "      <th>部件数目</th>\n",
       "      <th>全新否</th>\n",
       "      <th>原价</th>\n",
       "      <th>二手售价</th>\n",
       "    </tr>\n",
       "  </thead>\n",
       "  <tbody>\n",
       "    <tr>\n",
       "      <th>0</th>\n",
       "      <td>1</td>\n",
       "      <td>2006</td>\n",
       "      <td>800</td>\n",
       "      <td>0</td>\n",
       "      <td>49.99</td>\n",
       "      <td>85.00</td>\n",
       "    </tr>\n",
       "    <tr>\n",
       "      <th>1</th>\n",
       "      <td>1</td>\n",
       "      <td>2006</td>\n",
       "      <td>800</td>\n",
       "      <td>0</td>\n",
       "      <td>49.99</td>\n",
       "      <td>102.50</td>\n",
       "    </tr>\n",
       "    <tr>\n",
       "      <th>2</th>\n",
       "      <td>1</td>\n",
       "      <td>2006</td>\n",
       "      <td>800</td>\n",
       "      <td>0</td>\n",
       "      <td>49.99</td>\n",
       "      <td>77.00</td>\n",
       "    </tr>\n",
       "    <tr>\n",
       "      <th>3</th>\n",
       "      <td>1</td>\n",
       "      <td>2006</td>\n",
       "      <td>800</td>\n",
       "      <td>0</td>\n",
       "      <td>49.99</td>\n",
       "      <td>162.50</td>\n",
       "    </tr>\n",
       "    <tr>\n",
       "      <th>4</th>\n",
       "      <td>1</td>\n",
       "      <td>2002</td>\n",
       "      <td>3096</td>\n",
       "      <td>0</td>\n",
       "      <td>269.99</td>\n",
       "      <td>699.99</td>\n",
       "    </tr>\n",
       "  </tbody>\n",
       "</table>\n",
       "</div>"
      ],
      "text/plain": [
       "   X0  出品年份  部件数目  全新否      原价    二手售价\n",
       "0   1  2006   800    0   49.99   85.00\n",
       "1   1  2006   800    0   49.99  102.50\n",
       "2   1  2006   800    0   49.99   77.00\n",
       "3   1  2006   800    0   49.99  162.50\n",
       "4   1  2002  3096    0  269.99  699.99"
      ]
     },
     "execution_count": 27,
     "metadata": {},
     "output_type": "execute_result"
    }
   ],
   "source": [
    "df.head()"
   ]
  },
  {
   "cell_type": "code",
   "execution_count": 28,
   "metadata": {},
   "outputs": [
    {
     "data": {
      "text/plain": [
       "(63, 6)"
      ]
     },
     "execution_count": 28,
     "metadata": {},
     "output_type": "execute_result"
    }
   ],
   "source": [
    "df.shape"
   ]
  },
  {
   "cell_type": "markdown",
   "metadata": {},
   "source": [
    "### 作业1： 用线性回归建立模型预测二手价格"
   ]
  },
  {
   "cell_type": "markdown",
   "metadata": {},
   "source": [
    "### 附加题：用lasso或则逐步向前回归建立模型并选择变量"
   ]
  },
  {
   "cell_type": "markdown",
   "metadata": {},
   "source": [
    "### 扩展题：将数据存入数据库并调用"
   ]
  },
  {
   "cell_type": "markdown",
   "metadata": {},
   "source": [
    "参考材料:https://www.cnblogs.com/mayi0312/p/6668913.html"
   ]
  },
  {
   "cell_type": "code",
   "execution_count": 29,
   "metadata": {},
   "outputs": [],
   "source": [
    "def randSplit(dataSet,rate):\n",
    "    l = list(dataSet.index)\n",
    "    random.seed(123)\n",
    "    random.shuffle(l)\n",
    "    \n",
    "    m = dataSet.shape[0]\n",
    "    n = int(m*rate)\n",
    "    train = dataSet.iloc[range(n),:]\n",
    "    test = dataSet.loc[range(n,m),:]\n",
    "    return  train,test"
   ]
  },
  {
   "cell_type": "code",
   "execution_count": 30,
   "metadata": {},
   "outputs": [],
   "source": [
    "train,test = randSplit(df,0.8)"
   ]
  },
  {
   "cell_type": "code",
   "execution_count": 31,
   "metadata": {},
   "outputs": [
    {
     "data": {
      "text/plain": [
       "(50, 6)"
      ]
     },
     "execution_count": 31,
     "metadata": {},
     "output_type": "execute_result"
    }
   ],
   "source": [
    "train.shape"
   ]
  },
  {
   "cell_type": "code",
   "execution_count": 32,
   "metadata": {},
   "outputs": [
    {
     "data": {
      "text/plain": [
       "(13, 6)"
      ]
     },
     "execution_count": 32,
     "metadata": {},
     "output_type": "execute_result"
    }
   ],
   "source": [
    "test.shape"
   ]
  },
  {
   "cell_type": "code",
   "execution_count": 33,
   "metadata": {},
   "outputs": [],
   "source": [
    " def dataPlot(dataSet):\n",
    "        m,n = dataSet.shape\n",
    "        fig = plt.figure(figsize=(8,20),dpi=100)\n",
    "        colormap = mpl.cm.rainbow(np.linspace(0,1,n))\n",
    "        for i in range(n):\n",
    "            fig_ = fig.add_subplot(n,1,i+1)\n",
    "            plt.scatter(range(m),dataSet.iloc[:,i].values,s=2,c=colormap[i])\n",
    "            plt.title(dataSet.columns[i])\n",
    "            plt.tight_layout(pad=1.5)"
   ]
  },
  {
   "cell_type": "code",
   "execution_count": 34,
   "metadata": {},
   "outputs": [
    {
     "name": "stderr",
     "output_type": "stream",
     "text": [
      "*c* argument looks like a single numeric RGB or RGBA sequence, which should be avoided as value-mapping will have precedence in case its length matches with *x* & *y*.  Please use the *color* keyword-argument or provide a 2-D array with a single row if you intend to specify the same RGB or RGBA value for all points.\n",
      "*c* argument looks like a single numeric RGB or RGBA sequence, which should be avoided as value-mapping will have precedence in case its length matches with *x* & *y*.  Please use the *color* keyword-argument or provide a 2-D array with a single row if you intend to specify the same RGB or RGBA value for all points.\n",
      "*c* argument looks like a single numeric RGB or RGBA sequence, which should be avoided as value-mapping will have precedence in case its length matches with *x* & *y*.  Please use the *color* keyword-argument or provide a 2-D array with a single row if you intend to specify the same RGB or RGBA value for all points.\n",
      "*c* argument looks like a single numeric RGB or RGBA sequence, which should be avoided as value-mapping will have precedence in case its length matches with *x* & *y*.  Please use the *color* keyword-argument or provide a 2-D array with a single row if you intend to specify the same RGB or RGBA value for all points.\n",
      "*c* argument looks like a single numeric RGB or RGBA sequence, which should be avoided as value-mapping will have precedence in case its length matches with *x* & *y*.  Please use the *color* keyword-argument or provide a 2-D array with a single row if you intend to specify the same RGB or RGBA value for all points.\n",
      "*c* argument looks like a single numeric RGB or RGBA sequence, which should be avoided as value-mapping will have precedence in case its length matches with *x* & *y*.  Please use the *color* keyword-argument or provide a 2-D array with a single row if you intend to specify the same RGB or RGBA value for all points.\n"
     ]
    },
    {
     "data": {
      "image/png": "[encoded data removed]",
      "text/plain": [
       "<Figure size 800x2000 with 6 Axes>"
      ]
     },
     "metadata": {
      "needs_background": "light"
     },
     "output_type": "display_data"
    }
   ],
   "source": [
    "dataPlot(df)"
   ]
  },
  {
   "cell_type": "code",
   "execution_count": 35,
   "metadata": {},
   "outputs": [
    {
     "name": "stderr",
     "output_type": "stream",
     "text": [
      "*c* argument looks like a single numeric RGB or RGBA sequence, which should be avoided as value-mapping will have precedence in case its length matches with *x* & *y*.  Please use the *color* keyword-argument or provide a 2-D array with a single row if you intend to specify the same RGB or RGBA value for all points.\n",
      "*c* argument looks like a single numeric RGB or RGBA sequence, which should be avoided as value-mapping will have precedence in case its length matches with *x* & *y*.  Please use the *color* keyword-argument or provide a 2-D array with a single row if you intend to specify the same RGB or RGBA value for all points.\n",
      "*c* argument looks like a single numeric RGB or RGBA sequence, which should be avoided as value-mapping will have precedence in case its length matches with *x* & *y*.  Please use the *color* keyword-argument or provide a 2-D array with a single row if you intend to specify the same RGB or RGBA value for all points.\n",
      "*c* argument looks like a single numeric RGB or RGBA sequence, which should be avoided as value-mapping will have precedence in case its length matches with *x* & *y*.  Please use the *color* keyword-argument or provide a 2-D array with a single row if you intend to specify the same RGB or RGBA value for all points.\n",
      "*c* argument looks like a single numeric RGB or RGBA sequence, which should be avoided as value-mapping will have precedence in case its length matches with *x* & *y*.  Please use the *color* keyword-argument or provide a 2-D array with a single row if you intend to specify the same RGB or RGBA value for all points.\n",
      "*c* argument looks like a single numeric RGB or RGBA sequence, which should be avoided as value-mapping will have precedence in case its length matches with *x* & *y*.  Please use the *color* keyword-argument or provide a 2-D array with a single row if you intend to specify the same RGB or RGBA value for all points.\n"
     ]
    },
    {
     "data": {
      "image/png": "[encoded data removed]",
      "text/plain": [
       "<Figure size 800x2000 with 6 Axes>"
      ]
     },
     "metadata": {
      "needs_background": "light"
     },
     "output_type": "display_data"
    }
   ],
   "source": [
    "dataPlot(train)"
   ]
  },
  {
   "cell_type": "code",
   "execution_count": 36,
   "metadata": {},
   "outputs": [
    {
     "name": "stderr",
     "output_type": "stream",
     "text": [
      "*c* argument looks like a single numeric RGB or RGBA sequence, which should be avoided as value-mapping will have precedence in case its length matches with *x* & *y*.  Please use the *color* keyword-argument or provide a 2-D array with a single row if you intend to specify the same RGB or RGBA value for all points.\n",
      "*c* argument looks like a single numeric RGB or RGBA sequence, which should be avoided as value-mapping will have precedence in case its length matches with *x* & *y*.  Please use the *color* keyword-argument or provide a 2-D array with a single row if you intend to specify the same RGB or RGBA value for all points.\n",
      "*c* argument looks like a single numeric RGB or RGBA sequence, which should be avoided as value-mapping will have precedence in case its length matches with *x* & *y*.  Please use the *color* keyword-argument or provide a 2-D array with a single row if you intend to specify the same RGB or RGBA value for all points.\n",
      "*c* argument looks like a single numeric RGB or RGBA sequence, which should be avoided as value-mapping will have precedence in case its length matches with *x* & *y*.  Please use the *color* keyword-argument or provide a 2-D array with a single row if you intend to specify the same RGB or RGBA value for all points.\n",
      "*c* argument looks like a single numeric RGB or RGBA sequence, which should be avoided as value-mapping will have precedence in case its length matches with *x* & *y*.  Please use the *color* keyword-argument or provide a 2-D array with a single row if you intend to specify the same RGB or RGBA value for all points.\n",
      "*c* argument looks like a single numeric RGB or RGBA sequence, which should be avoided as value-mapping will have precedence in case its length matches with *x* & *y*.  Please use the *color* keyword-argument or provide a 2-D array with a single row if you intend to specify the same RGB or RGBA value for all points.\n"
     ]
    },
    {
     "data": {
      "image/png": "[encoded data removed]",
      "text/plain": [
       "<Figure size 800x2000 with 6 Axes>"
      ]
     },
     "metadata": {
      "needs_background": "light"
     },
     "output_type": "display_data"
    }
   ],
   "source": [
    "dataPlot(test)"
   ]
  },
  {
   "cell_type": "code",
   "execution_count": 37,
   "metadata": {},
   "outputs": [],
   "source": [
    "def get_Mat(dataSet):\n",
    "    xMat = np.mat(dataSet.iloc[:,:-1].values)\n",
    "    yMat = np.mat(dataSet.iloc[:,-1].values).T\n",
    "    return xMat,yMat"
   ]
  },
  {
   "cell_type": "code",
   "execution_count": 38,
   "metadata": {},
   "outputs": [],
   "source": [
    "def standRegres(dataSet):\n",
    "    xMat,yMat =get_Mat(dataSet)\n",
    "    xTx = xMat.T*xMat\n",
    "    if np.linalg.det(xTx)==0:                \n",
    "        print('矩阵为奇异矩阵，无法求逆')\n",
    "        return\n",
    "    ws=xTx.I*(xMat.T*yMat)\n",
    "    return ws"
   ]
  },
  {
   "cell_type": "code",
   "execution_count": 39,
   "metadata": {},
   "outputs": [],
   "source": [
    "ws = standRegres(df)"
   ]
  },
  {
   "cell_type": "code",
   "execution_count": 40,
   "metadata": {},
   "outputs": [
    {
     "data": {
      "text/plain": [
       "matrix([[ 5.52543389e+04],\n",
       "        [-2.75598885e+01],\n",
       "        [-2.66942021e-02],\n",
       "        [-1.22918160e+01],\n",
       "        [ 2.57381729e+00]])"
      ]
     },
     "execution_count": 40,
     "metadata": {},
     "output_type": "execute_result"
    }
   ],
   "source": [
    "ws"
   ]
  },
  {
   "cell_type": "code",
   "execution_count": 41,
   "metadata": {},
   "outputs": [],
   "source": [
    "xMat,yMat = get_Mat(df)"
   ]
  },
  {
   "cell_type": "code",
   "execution_count": 42,
   "metadata": {},
   "outputs": [],
   "source": [
    "yHat = xMat * ws"
   ]
  },
  {
   "cell_type": "code",
   "execution_count": 43,
   "metadata": {},
   "outputs": [
    {
     "data": {
      "text/plain": [
       "<matplotlib.collections.PathCollection at 0x288cf6e9310>"
      ]
     },
     "execution_count": 43,
     "metadata": {},
     "output_type": "execute_result"
    },
    {
     "data": {
      "image/png": "[encoded data removed]",
      "text/plain": [
       "<Figure size 432x288 with 1 Axes>"
      ]
     },
     "metadata": {
      "needs_background": "light"
     },
     "output_type": "display_data"
    }
   ],
   "source": [
    "#画出真实值和预测值的散点图\n",
    "plt.scatter(range(df.shape[0]),yMat.A)\n",
    "plt.scatter(range(df.shape[0]),yHat.A)"
   ]
  },
  {
   "cell_type": "code",
   "execution_count": 44,
   "metadata": {},
   "outputs": [
    {
     "data": {
      "text/html": [
       "<div>\n",
       "<style scoped>\n",
       "    .dataframe tbody tr th:only-of-type {\n",
       "        vertical-align: middle;\n",
       "    }\n",
       "\n",
       "    .dataframe tbody tr th {\n",
       "        vertical-align: top;\n",
       "    }\n",
       "\n",
       "    .dataframe thead th {\n",
       "        text-align: right;\n",
       "    }\n",
       "</style>\n",
       "<table border=\"1\" class=\"dataframe\">\n",
       "  <thead>\n",
       "    <tr style=\"text-align: right;\">\n",
       "      <th></th>\n",
       "      <th>X0</th>\n",
       "      <th>出品年份</th>\n",
       "      <th>部件数目</th>\n",
       "      <th>全新否</th>\n",
       "      <th>原价</th>\n",
       "      <th>二手售价</th>\n",
       "    </tr>\n",
       "  </thead>\n",
       "  <tbody>\n",
       "    <tr>\n",
       "      <th>0</th>\n",
       "      <td>1</td>\n",
       "      <td>2006</td>\n",
       "      <td>800</td>\n",
       "      <td>0</td>\n",
       "      <td>49.99</td>\n",
       "      <td>85.00</td>\n",
       "    </tr>\n",
       "    <tr>\n",
       "      <th>1</th>\n",
       "      <td>1</td>\n",
       "      <td>2006</td>\n",
       "      <td>800</td>\n",
       "      <td>0</td>\n",
       "      <td>49.99</td>\n",
       "      <td>102.50</td>\n",
       "    </tr>\n",
       "    <tr>\n",
       "      <th>2</th>\n",
       "      <td>1</td>\n",
       "      <td>2006</td>\n",
       "      <td>800</td>\n",
       "      <td>0</td>\n",
       "      <td>49.99</td>\n",
       "      <td>77.00</td>\n",
       "    </tr>\n",
       "    <tr>\n",
       "      <th>3</th>\n",
       "      <td>1</td>\n",
       "      <td>2006</td>\n",
       "      <td>800</td>\n",
       "      <td>0</td>\n",
       "      <td>49.99</td>\n",
       "      <td>162.50</td>\n",
       "    </tr>\n",
       "    <tr>\n",
       "      <th>4</th>\n",
       "      <td>1</td>\n",
       "      <td>2002</td>\n",
       "      <td>3096</td>\n",
       "      <td>0</td>\n",
       "      <td>269.99</td>\n",
       "      <td>699.99</td>\n",
       "    </tr>\n",
       "  </tbody>\n",
       "</table>\n",
       "</div>"
      ],
      "text/plain": [
       "   X0  出品年份  部件数目  全新否      原价    二手售价\n",
       "0   1  2006   800    0   49.99   85.00\n",
       "1   1  2006   800    0   49.99  102.50\n",
       "2   1  2006   800    0   49.99   77.00\n",
       "3   1  2006   800    0   49.99  162.50\n",
       "4   1  2002  3096    0  269.99  699.99"
      ]
     },
     "execution_count": 44,
     "metadata": {},
     "output_type": "execute_result"
    }
   ],
   "source": [
    "df.head()"
   ]
  },
  {
   "cell_type": "code",
   "execution_count": 45,
   "metadata": {},
   "outputs": [],
   "source": [
    "df = df.drop(labels='X0',axis=1)"
   ]
  },
  {
   "cell_type": "code",
   "execution_count": 46,
   "metadata": {},
   "outputs": [
    {
     "data": {
      "text/html": [
       "<div>\n",
       "<style scoped>\n",
       "    .dataframe tbody tr th:only-of-type {\n",
       "        vertical-align: middle;\n",
       "    }\n",
       "\n",
       "    .dataframe tbody tr th {\n",
       "        vertical-align: top;\n",
       "    }\n",
       "\n",
       "    .dataframe thead th {\n",
       "        text-align: right;\n",
       "    }\n",
       "</style>\n",
       "<table border=\"1\" class=\"dataframe\">\n",
       "  <thead>\n",
       "    <tr style=\"text-align: right;\">\n",
       "      <th></th>\n",
       "      <th>出品年份</th>\n",
       "      <th>部件数目</th>\n",
       "      <th>全新否</th>\n",
       "      <th>原价</th>\n",
       "      <th>二手售价</th>\n",
       "    </tr>\n",
       "  </thead>\n",
       "  <tbody>\n",
       "    <tr>\n",
       "      <th>0</th>\n",
       "      <td>2006</td>\n",
       "      <td>800</td>\n",
       "      <td>0</td>\n",
       "      <td>49.99</td>\n",
       "      <td>85.00</td>\n",
       "    </tr>\n",
       "    <tr>\n",
       "      <th>1</th>\n",
       "      <td>2006</td>\n",
       "      <td>800</td>\n",
       "      <td>0</td>\n",
       "      <td>49.99</td>\n",
       "      <td>102.50</td>\n",
       "    </tr>\n",
       "    <tr>\n",
       "      <th>2</th>\n",
       "      <td>2006</td>\n",
       "      <td>800</td>\n",
       "      <td>0</td>\n",
       "      <td>49.99</td>\n",
       "      <td>77.00</td>\n",
       "    </tr>\n",
       "    <tr>\n",
       "      <th>3</th>\n",
       "      <td>2006</td>\n",
       "      <td>800</td>\n",
       "      <td>0</td>\n",
       "      <td>49.99</td>\n",
       "      <td>162.50</td>\n",
       "    </tr>\n",
       "    <tr>\n",
       "      <th>4</th>\n",
       "      <td>2002</td>\n",
       "      <td>3096</td>\n",
       "      <td>0</td>\n",
       "      <td>269.99</td>\n",
       "      <td>699.99</td>\n",
       "    </tr>\n",
       "  </tbody>\n",
       "</table>\n",
       "</div>"
      ],
      "text/plain": [
       "   出品年份  部件数目  全新否      原价    二手售价\n",
       "0  2006   800    0   49.99   85.00\n",
       "1  2006   800    0   49.99  102.50\n",
       "2  2006   800    0   49.99   77.00\n",
       "3  2006   800    0   49.99  162.50\n",
       "4  2002  3096    0  269.99  699.99"
      ]
     },
     "execution_count": 46,
     "metadata": {},
     "output_type": "execute_result"
    }
   ],
   "source": [
    "df.head()"
   ]
  },
  {
   "cell_type": "markdown",
   "metadata": {},
   "source": [
    "#### lasso"
   ]
  },
  {
   "cell_type": "code",
   "execution_count": 53,
   "metadata": {},
   "outputs": [],
   "source": [
    "from sklearn.linear_model import Lasso"
   ]
  },
  {
   "cell_type": "code",
   "execution_count": 54,
   "metadata": {},
   "outputs": [
    {
     "data": {
      "text/plain": [
       "Lasso(alpha=0.05)"
      ]
     },
     "execution_count": 54,
     "metadata": {},
     "output_type": "execute_result"
    }
   ],
   "source": [
    "las = Lasso(alpha=0.05)\n",
    "las.fit(df.iloc[:,:-1],df.iloc[:,-1])"
   ]
  },
  {
   "cell_type": "code",
   "execution_count": 55,
   "metadata": {},
   "outputs": [
    {
     "data": {
      "text/plain": [
       "array([-2.75566048e+01, -2.67180496e-02, -1.20816591e+01,  2.57387787e+00])"
      ]
     },
     "execution_count": 55,
     "metadata": {},
     "output_type": "execute_result"
    }
   ],
   "source": [
    "las.coef_"
   ]
  },
  {
   "cell_type": "markdown",
   "metadata": {},
   "source": [
    "#### sqlite"
   ]
  },
  {
   "cell_type": "code",
   "execution_count": 47,
   "metadata": {},
   "outputs": [],
   "source": [
    "from sqlalchemy import create_engine"
   ]
  },
  {
   "cell_type": "code",
   "execution_count": 48,
   "metadata": {},
   "outputs": [],
   "source": [
    "engin = create_engine('sqlite:///data.db')"
   ]
  },
  {
   "cell_type": "code",
   "execution_count": 49,
   "metadata": {},
   "outputs": [],
   "source": [
    "df.to_sql('ligao',engin)"
   ]
  },
  {
   "cell_type": "code",
   "execution_count": 50,
   "metadata": {},
   "outputs": [],
   "source": [
    "frame = pd.read_sql('ligao',engin)"
   ]
  },
  {
   "cell_type": "code",
   "execution_count": 52,
   "metadata": {},
   "outputs": [
    {
     "data": {
      "text/html": [
       "<div>\n",
       "<style scoped>\n",
       "    .dataframe tbody tr th:only-of-type {\n",
       "        vertical-align: middle;\n",
       "    }\n",
       "\n",
       "    .dataframe tbody tr th {\n",
       "        vertical-align: top;\n",
       "    }\n",
       "\n",
       "    .dataframe thead th {\n",
       "        text-align: right;\n",
       "    }\n",
       "</style>\n",
       "<table border=\"1\" class=\"dataframe\">\n",
       "  <thead>\n",
       "    <tr style=\"text-align: right;\">\n",
       "      <th></th>\n",
       "      <th>index</th>\n",
       "      <th>出品年份</th>\n",
       "      <th>部件数目</th>\n",
       "      <th>全新否</th>\n",
       "      <th>原价</th>\n",
       "      <th>二手售价</th>\n",
       "    </tr>\n",
       "  </thead>\n",
       "  <tbody>\n",
       "    <tr>\n",
       "      <th>0</th>\n",
       "      <td>0</td>\n",
       "      <td>2006</td>\n",
       "      <td>800</td>\n",
       "      <td>0</td>\n",
       "      <td>49.99</td>\n",
       "      <td>85.00</td>\n",
       "    </tr>\n",
       "    <tr>\n",
       "      <th>1</th>\n",
       "      <td>1</td>\n",
       "      <td>2006</td>\n",
       "      <td>800</td>\n",
       "      <td>0</td>\n",
       "      <td>49.99</td>\n",
       "      <td>102.50</td>\n",
       "    </tr>\n",
       "    <tr>\n",
       "      <th>2</th>\n",
       "      <td>2</td>\n",
       "      <td>2006</td>\n",
       "      <td>800</td>\n",
       "      <td>0</td>\n",
       "      <td>49.99</td>\n",
       "      <td>77.00</td>\n",
       "    </tr>\n",
       "    <tr>\n",
       "      <th>3</th>\n",
       "      <td>3</td>\n",
       "      <td>2006</td>\n",
       "      <td>800</td>\n",
       "      <td>0</td>\n",
       "      <td>49.99</td>\n",
       "      <td>162.50</td>\n",
       "    </tr>\n",
       "    <tr>\n",
       "      <th>4</th>\n",
       "      <td>4</td>\n",
       "      <td>2002</td>\n",
       "      <td>3096</td>\n",
       "      <td>0</td>\n",
       "      <td>269.99</td>\n",
       "      <td>699.99</td>\n",
       "    </tr>\n",
       "  </tbody>\n",
       "</table>\n",
       "</div>"
      ],
      "text/plain": [
       "   index  出品年份  部件数目  全新否      原价    二手售价\n",
       "0      0  2006   800    0   49.99   85.00\n",
       "1      1  2006   800    0   49.99  102.50\n",
       "2      2  2006   800    0   49.99   77.00\n",
       "3      3  2006   800    0   49.99  162.50\n",
       "4      4  2002  3096    0  269.99  699.99"
      ]
     },
     "execution_count": 52,
     "metadata": {},
     "output_type": "execute_result"
    }
   ],
   "source": [
    "frame.head()"
   ]
  },
  {
   "cell_type": "code",
   "execution_count": null,
   "metadata": {},
   "outputs": [],
   "source": []
  }
 ],
 "metadata": {
  "kernelspec": {
   "display_name": "Python 3",
   "language": "python",
   "name": "python3"
  },
  "language_info": {
   "codemirror_mode": {
    "name": "ipython",
    "version": 3
   },
   "file_extension": ".py",
   "mimetype": "text/x-python",
   "name": "python",
   "nbconvert_exporter": "python",
   "pygments_lexer": "ipython3",
   "version": "3.8.3"
  }
 },
 "nbformat": 4,
 "nbformat_minor": 4
}
